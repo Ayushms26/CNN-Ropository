{
  "nbformat": 4,
  "nbformat_minor": 0,
  "metadata": {
    "colab": {
      "provenance": [],
      "gpuType": "T4"
    },
    "kernelspec": {
      "name": "python3",
      "display_name": "Python 3"
    },
    "language_info": {
      "name": "python"
    },
    "accelerator": "GPU"
  },
  "cells": [
    {
      "cell_type": "code",
      "execution_count": 2,
      "metadata": {
        "id": "XvWNM9NnkR-4"
      },
      "outputs": [],
      "source": [
        "import numpy as np\n",
        "import pandas as pd"
      ]
    },
    {
      "cell_type": "code",
      "source": [
        "df"
      ],
      "metadata": {
        "colab": {
          "base_uri": "https://localhost:8080/",
          "height": 89
        },
        "id": "5CgT05bklkGQ",
        "outputId": "d3bee7bc-0452-48eb-9ff0-865767ae4814"
      },
      "execution_count": null,
      "outputs": [
        {
          "output_type": "execute_result",
          "data": {
            "text/plain": [
              "Empty DataFrame\n",
              "Columns: [{\"username\":\"ayush07120\", key:\"9cefa20a75779d214fde816595cc723f\"}]\n",
              "Index: []"
            ],
            "text/html": [
              "\n",
              "  <div id=\"df-c88c7f6f-99d2-4601-844f-8311c33dcd71\" class=\"colab-df-container\">\n",
              "    <div>\n",
              "<style scoped>\n",
              "    .dataframe tbody tr th:only-of-type {\n",
              "        vertical-align: middle;\n",
              "    }\n",
              "\n",
              "    .dataframe tbody tr th {\n",
              "        vertical-align: top;\n",
              "    }\n",
              "\n",
              "    .dataframe thead th {\n",
              "        text-align: right;\n",
              "    }\n",
              "</style>\n",
              "<table border=\"1\" class=\"dataframe\">\n",
              "  <thead>\n",
              "    <tr style=\"text-align: right;\">\n",
              "      <th></th>\n",
              "      <th>{\"username\":\"ayush07120\"</th>\n",
              "      <th>key:\"9cefa20a75779d214fde816595cc723f\"}</th>\n",
              "    </tr>\n",
              "  </thead>\n",
              "  <tbody>\n",
              "  </tbody>\n",
              "</table>\n",
              "</div>\n",
              "    <div class=\"colab-df-buttons\">\n",
              "\n",
              "  <div class=\"colab-df-container\">\n",
              "    <button class=\"colab-df-convert\" onclick=\"convertToInteractive('df-c88c7f6f-99d2-4601-844f-8311c33dcd71')\"\n",
              "            title=\"Convert this dataframe to an interactive table.\"\n",
              "            style=\"display:none;\">\n",
              "\n",
              "  <svg xmlns=\"http://www.w3.org/2000/svg\" height=\"24px\" viewBox=\"0 -960 960 960\">\n",
              "    <path d=\"M120-120v-720h720v720H120Zm60-500h600v-160H180v160Zm220 220h160v-160H400v160Zm0 220h160v-160H400v160ZM180-400h160v-160H180v160Zm440 0h160v-160H620v160ZM180-180h160v-160H180v160Zm440 0h160v-160H620v160Z\"/>\n",
              "  </svg>\n",
              "    </button>\n",
              "\n",
              "  <style>\n",
              "    .colab-df-container {\n",
              "      display:flex;\n",
              "      gap: 12px;\n",
              "    }\n",
              "\n",
              "    .colab-df-convert {\n",
              "      background-color: #E8F0FE;\n",
              "      border: none;\n",
              "      border-radius: 50%;\n",
              "      cursor: pointer;\n",
              "      display: none;\n",
              "      fill: #1967D2;\n",
              "      height: 32px;\n",
              "      padding: 0 0 0 0;\n",
              "      width: 32px;\n",
              "    }\n",
              "\n",
              "    .colab-df-convert:hover {\n",
              "      background-color: #E2EBFA;\n",
              "      box-shadow: 0px 1px 2px rgba(60, 64, 67, 0.3), 0px 1px 3px 1px rgba(60, 64, 67, 0.15);\n",
              "      fill: #174EA6;\n",
              "    }\n",
              "\n",
              "    .colab-df-buttons div {\n",
              "      margin-bottom: 4px;\n",
              "    }\n",
              "\n",
              "    [theme=dark] .colab-df-convert {\n",
              "      background-color: #3B4455;\n",
              "      fill: #D2E3FC;\n",
              "    }\n",
              "\n",
              "    [theme=dark] .colab-df-convert:hover {\n",
              "      background-color: #434B5C;\n",
              "      box-shadow: 0px 1px 3px 1px rgba(0, 0, 0, 0.15);\n",
              "      filter: drop-shadow(0px 1px 2px rgba(0, 0, 0, 0.3));\n",
              "      fill: #FFFFFF;\n",
              "    }\n",
              "  </style>\n",
              "\n",
              "    <script>\n",
              "      const buttonEl =\n",
              "        document.querySelector('#df-c88c7f6f-99d2-4601-844f-8311c33dcd71 button.colab-df-convert');\n",
              "      buttonEl.style.display =\n",
              "        google.colab.kernel.accessAllowed ? 'block' : 'none';\n",
              "\n",
              "      async function convertToInteractive(key) {\n",
              "        const element = document.querySelector('#df-c88c7f6f-99d2-4601-844f-8311c33dcd71');\n",
              "        const dataTable =\n",
              "          await google.colab.kernel.invokeFunction('convertToInteractive',\n",
              "                                                    [key], {});\n",
              "        if (!dataTable) return;\n",
              "\n",
              "        const docLinkHtml = 'Like what you see? Visit the ' +\n",
              "          '<a target=\"_blank\" href=https://colab.research.google.com/notebooks/data_table.ipynb>data table notebook</a>'\n",
              "          + ' to learn more about interactive tables.';\n",
              "        element.innerHTML = '';\n",
              "        dataTable['output_type'] = 'display_data';\n",
              "        await google.colab.output.renderOutput(dataTable, element);\n",
              "        const docLink = document.createElement('div');\n",
              "        docLink.innerHTML = docLinkHtml;\n",
              "        element.appendChild(docLink);\n",
              "      }\n",
              "    </script>\n",
              "  </div>\n",
              "\n",
              "\n",
              "  <div id=\"id_5f3f1e34-48ff-4af1-9756-fc6d8229455f\">\n",
              "    <style>\n",
              "      .colab-df-generate {\n",
              "        background-color: #E8F0FE;\n",
              "        border: none;\n",
              "        border-radius: 50%;\n",
              "        cursor: pointer;\n",
              "        display: none;\n",
              "        fill: #1967D2;\n",
              "        height: 32px;\n",
              "        padding: 0 0 0 0;\n",
              "        width: 32px;\n",
              "      }\n",
              "\n",
              "      .colab-df-generate:hover {\n",
              "        background-color: #E2EBFA;\n",
              "        box-shadow: 0px 1px 2px rgba(60, 64, 67, 0.3), 0px 1px 3px 1px rgba(60, 64, 67, 0.15);\n",
              "        fill: #174EA6;\n",
              "      }\n",
              "\n",
              "      [theme=dark] .colab-df-generate {\n",
              "        background-color: #3B4455;\n",
              "        fill: #D2E3FC;\n",
              "      }\n",
              "\n",
              "      [theme=dark] .colab-df-generate:hover {\n",
              "        background-color: #434B5C;\n",
              "        box-shadow: 0px 1px 3px 1px rgba(0, 0, 0, 0.15);\n",
              "        filter: drop-shadow(0px 1px 2px rgba(0, 0, 0, 0.3));\n",
              "        fill: #FFFFFF;\n",
              "      }\n",
              "    </style>\n",
              "    <button class=\"colab-df-generate\" onclick=\"generateWithVariable('df')\"\n",
              "            title=\"Generate code using this dataframe.\"\n",
              "            style=\"display:none;\">\n",
              "\n",
              "  <svg xmlns=\"http://www.w3.org/2000/svg\" height=\"24px\"viewBox=\"0 0 24 24\"\n",
              "       width=\"24px\">\n",
              "    <path d=\"M7,19H8.4L18.45,9,17,7.55,7,17.6ZM5,21V16.75L18.45,3.32a2,2,0,0,1,2.83,0l1.4,1.43a1.91,1.91,0,0,1,.58,1.4,1.91,1.91,0,0,1-.58,1.4L9.25,21ZM18.45,9,17,7.55Zm-12,3A5.31,5.31,0,0,0,4.9,8.1,5.31,5.31,0,0,0,1,6.5,5.31,5.31,0,0,0,4.9,4.9,5.31,5.31,0,0,0,6.5,1,5.31,5.31,0,0,0,8.1,4.9,5.31,5.31,0,0,0,12,6.5,5.46,5.46,0,0,0,6.5,12Z\"/>\n",
              "  </svg>\n",
              "    </button>\n",
              "    <script>\n",
              "      (() => {\n",
              "      const buttonEl =\n",
              "        document.querySelector('#id_5f3f1e34-48ff-4af1-9756-fc6d8229455f button.colab-df-generate');\n",
              "      buttonEl.style.display =\n",
              "        google.colab.kernel.accessAllowed ? 'block' : 'none';\n",
              "\n",
              "      buttonEl.onclick = () => {\n",
              "        google.colab.notebook.generateWithVariable('df');\n",
              "      }\n",
              "      })();\n",
              "    </script>\n",
              "  </div>\n",
              "\n",
              "    </div>\n",
              "  </div>\n"
            ],
            "application/vnd.google.colaboratory.intrinsic+json": {
              "type": "dataframe",
              "variable_name": "df",
              "repr_error": "Out of range float values are not JSON compliant: nan"
            }
          },
          "metadata": {},
          "execution_count": 4
        }
      ]
    },
    {
      "cell_type": "code",
      "source": [
        "from google.colab import files\n",
        "files.upload()"
      ],
      "metadata": {
        "colab": {
          "base_uri": "https://localhost:8080/",
          "height": 90
        },
        "id": "r0YIa3pRlkDg",
        "outputId": "37066d8a-240e-4da4-d52d-69ced429a8ec"
      },
      "execution_count": 3,
      "outputs": [
        {
          "output_type": "display_data",
          "data": {
            "text/plain": [
              "<IPython.core.display.HTML object>"
            ],
            "text/html": [
              "\n",
              "     <input type=\"file\" id=\"files-7af60386-cc34-4973-8842-3094fca57d28\" name=\"files[]\" multiple disabled\n",
              "        style=\"border:none\" />\n",
              "     <output id=\"result-7af60386-cc34-4973-8842-3094fca57d28\">\n",
              "      Upload widget is only available when the cell has been executed in the\n",
              "      current browser session. Please rerun this cell to enable.\n",
              "      </output>\n",
              "      <script>// Copyright 2017 Google LLC\n",
              "//\n",
              "// Licensed under the Apache License, Version 2.0 (the \"License\");\n",
              "// you may not use this file except in compliance with the License.\n",
              "// You may obtain a copy of the License at\n",
              "//\n",
              "//      http://www.apache.org/licenses/LICENSE-2.0\n",
              "//\n",
              "// Unless required by applicable law or agreed to in writing, software\n",
              "// distributed under the License is distributed on an \"AS IS\" BASIS,\n",
              "// WITHOUT WARRANTIES OR CONDITIONS OF ANY KIND, either express or implied.\n",
              "// See the License for the specific language governing permissions and\n",
              "// limitations under the License.\n",
              "\n",
              "/**\n",
              " * @fileoverview Helpers for google.colab Python module.\n",
              " */\n",
              "(function(scope) {\n",
              "function span(text, styleAttributes = {}) {\n",
              "  const element = document.createElement('span');\n",
              "  element.textContent = text;\n",
              "  for (const key of Object.keys(styleAttributes)) {\n",
              "    element.style[key] = styleAttributes[key];\n",
              "  }\n",
              "  return element;\n",
              "}\n",
              "\n",
              "// Max number of bytes which will be uploaded at a time.\n",
              "const MAX_PAYLOAD_SIZE = 100 * 1024;\n",
              "\n",
              "function _uploadFiles(inputId, outputId) {\n",
              "  const steps = uploadFilesStep(inputId, outputId);\n",
              "  const outputElement = document.getElementById(outputId);\n",
              "  // Cache steps on the outputElement to make it available for the next call\n",
              "  // to uploadFilesContinue from Python.\n",
              "  outputElement.steps = steps;\n",
              "\n",
              "  return _uploadFilesContinue(outputId);\n",
              "}\n",
              "\n",
              "// This is roughly an async generator (not supported in the browser yet),\n",
              "// where there are multiple asynchronous steps and the Python side is going\n",
              "// to poll for completion of each step.\n",
              "// This uses a Promise to block the python side on completion of each step,\n",
              "// then passes the result of the previous step as the input to the next step.\n",
              "function _uploadFilesContinue(outputId) {\n",
              "  const outputElement = document.getElementById(outputId);\n",
              "  const steps = outputElement.steps;\n",
              "\n",
              "  const next = steps.next(outputElement.lastPromiseValue);\n",
              "  return Promise.resolve(next.value.promise).then((value) => {\n",
              "    // Cache the last promise value to make it available to the next\n",
              "    // step of the generator.\n",
              "    outputElement.lastPromiseValue = value;\n",
              "    return next.value.response;\n",
              "  });\n",
              "}\n",
              "\n",
              "/**\n",
              " * Generator function which is called between each async step of the upload\n",
              " * process.\n",
              " * @param {string} inputId Element ID of the input file picker element.\n",
              " * @param {string} outputId Element ID of the output display.\n",
              " * @return {!Iterable<!Object>} Iterable of next steps.\n",
              " */\n",
              "function* uploadFilesStep(inputId, outputId) {\n",
              "  const inputElement = document.getElementById(inputId);\n",
              "  inputElement.disabled = false;\n",
              "\n",
              "  const outputElement = document.getElementById(outputId);\n",
              "  outputElement.innerHTML = '';\n",
              "\n",
              "  const pickedPromise = new Promise((resolve) => {\n",
              "    inputElement.addEventListener('change', (e) => {\n",
              "      resolve(e.target.files);\n",
              "    });\n",
              "  });\n",
              "\n",
              "  const cancel = document.createElement('button');\n",
              "  inputElement.parentElement.appendChild(cancel);\n",
              "  cancel.textContent = 'Cancel upload';\n",
              "  const cancelPromise = new Promise((resolve) => {\n",
              "    cancel.onclick = () => {\n",
              "      resolve(null);\n",
              "    };\n",
              "  });\n",
              "\n",
              "  // Wait for the user to pick the files.\n",
              "  const files = yield {\n",
              "    promise: Promise.race([pickedPromise, cancelPromise]),\n",
              "    response: {\n",
              "      action: 'starting',\n",
              "    }\n",
              "  };\n",
              "\n",
              "  cancel.remove();\n",
              "\n",
              "  // Disable the input element since further picks are not allowed.\n",
              "  inputElement.disabled = true;\n",
              "\n",
              "  if (!files) {\n",
              "    return {\n",
              "      response: {\n",
              "        action: 'complete',\n",
              "      }\n",
              "    };\n",
              "  }\n",
              "\n",
              "  for (const file of files) {\n",
              "    const li = document.createElement('li');\n",
              "    li.append(span(file.name, {fontWeight: 'bold'}));\n",
              "    li.append(span(\n",
              "        `(${file.type || 'n/a'}) - ${file.size} bytes, ` +\n",
              "        `last modified: ${\n",
              "            file.lastModifiedDate ? file.lastModifiedDate.toLocaleDateString() :\n",
              "                                    'n/a'} - `));\n",
              "    const percent = span('0% done');\n",
              "    li.appendChild(percent);\n",
              "\n",
              "    outputElement.appendChild(li);\n",
              "\n",
              "    const fileDataPromise = new Promise((resolve) => {\n",
              "      const reader = new FileReader();\n",
              "      reader.onload = (e) => {\n",
              "        resolve(e.target.result);\n",
              "      };\n",
              "      reader.readAsArrayBuffer(file);\n",
              "    });\n",
              "    // Wait for the data to be ready.\n",
              "    let fileData = yield {\n",
              "      promise: fileDataPromise,\n",
              "      response: {\n",
              "        action: 'continue',\n",
              "      }\n",
              "    };\n",
              "\n",
              "    // Use a chunked sending to avoid message size limits. See b/62115660.\n",
              "    let position = 0;\n",
              "    do {\n",
              "      const length = Math.min(fileData.byteLength - position, MAX_PAYLOAD_SIZE);\n",
              "      const chunk = new Uint8Array(fileData, position, length);\n",
              "      position += length;\n",
              "\n",
              "      const base64 = btoa(String.fromCharCode.apply(null, chunk));\n",
              "      yield {\n",
              "        response: {\n",
              "          action: 'append',\n",
              "          file: file.name,\n",
              "          data: base64,\n",
              "        },\n",
              "      };\n",
              "\n",
              "      let percentDone = fileData.byteLength === 0 ?\n",
              "          100 :\n",
              "          Math.round((position / fileData.byteLength) * 100);\n",
              "      percent.textContent = `${percentDone}% done`;\n",
              "\n",
              "    } while (position < fileData.byteLength);\n",
              "  }\n",
              "\n",
              "  // All done.\n",
              "  yield {\n",
              "    response: {\n",
              "      action: 'complete',\n",
              "    }\n",
              "  };\n",
              "}\n",
              "\n",
              "scope.google = scope.google || {};\n",
              "scope.google.colab = scope.google.colab || {};\n",
              "scope.google.colab._files = {\n",
              "  _uploadFiles,\n",
              "  _uploadFilesContinue,\n",
              "};\n",
              "})(self);\n",
              "</script> "
            ]
          },
          "metadata": {}
        },
        {
          "output_type": "stream",
          "name": "stdout",
          "text": [
            "Saving kaggle (3).json to kaggle (3).json\n"
          ]
        },
        {
          "output_type": "execute_result",
          "data": {
            "text/plain": [
              "{'kaggle (3).json': b'{\"username\":\"ayush07120\",\"key\":\"5c03b1ab499c7f25db0448e1969ee7e8\"}'}"
            ]
          },
          "metadata": {},
          "execution_count": 3
        }
      ]
    },
    {
      "cell_type": "code",
      "source": [
        "!mkdir -p ~/.kaggle\n",
        "!cp kaggle.json ~/.kaggle/\n",
        "!chmod 600 ~/.kaggle/kaggle.json\n"
      ],
      "metadata": {
        "id": "BJJ_GDYBlkAp"
      },
      "execution_count": 6,
      "outputs": []
    },
    {
      "cell_type": "code",
      "source": [
        "!kaggle datasets download -d salader/dogs-vs-cats --force\n"
      ],
      "metadata": {
        "colab": {
          "base_uri": "https://localhost:8080/"
        },
        "id": "cZRj1PSRlj9n",
        "outputId": "7bdc6eee-346d-400d-f817-074b5d81768b"
      },
      "execution_count": 7,
      "outputs": [
        {
          "output_type": "stream",
          "name": "stdout",
          "text": [
            "Dataset URL: https://www.kaggle.com/datasets/salader/dogs-vs-cats\n",
            "License(s): unknown\n",
            "Downloading dogs-vs-cats.zip to /content\n",
            " 98% 1.04G/1.06G [00:07<00:00, 139MB/s]\n",
            "100% 1.06G/1.06G [00:07<00:00, 157MB/s]\n"
          ]
        }
      ]
    },
    {
      "cell_type": "code",
      "source": [
        "!unzip -q dogs-vs-cats.zip -d dogs_vs_cats\n"
      ],
      "metadata": {
        "id": "Fey_NDq1lj6r"
      },
      "execution_count": 8,
      "outputs": []
    },
    {
      "cell_type": "code",
      "source": [
        "import tensorflow as tf\n",
        "from tensorflow import keras\n",
        "from keras import Sequential\n",
        "from keras.layers import Dense,Conv2D,MaxPooling2D,Flatten,BatchNormalization"
      ],
      "metadata": {
        "id": "8t8m3h7hlj3z"
      },
      "execution_count": 9,
      "outputs": []
    },
    {
      "cell_type": "code",
      "source": [
        "# ek sath sare data pe kam karna is not possible\n",
        "# due to large data, and we have not that much storage\n",
        "\n",
        "# so we use Generators---> for creating batch of our data"
      ],
      "metadata": {
        "id": "jDAfOP6alj1H"
      },
      "execution_count": 8,
      "outputs": []
    },
    {
      "cell_type": "code",
      "source": [
        "# generators\n",
        "\n",
        "train_ds = keras.utils.image_dataset_from_directory(\n",
        "    directory = '/content/dogs_vs_cats/train',\n",
        "    labels= 'inferred',\n",
        "    label_mode ='int',\n",
        "    batch_size =32,\n",
        "    image_size=(256,256)\n",
        ")\n",
        "\n",
        "validation_ds = keras.utils.image_dataset_from_directory(\n",
        "    directory = '/content/dogs_vs_cats/test',\n",
        "    labels= 'inferred',\n",
        "    label_mode ='int',\n",
        "    batch_size =32,\n",
        "    image_size=(256,256) # resize the size becouse har image ka size diffirent hai\n",
        ")"
      ],
      "metadata": {
        "id": "toeSNt_yljyY",
        "colab": {
          "base_uri": "https://localhost:8080/"
        },
        "outputId": "9c5a74e2-353d-4a29-8b8b-ea7664f373af"
      },
      "execution_count": 10,
      "outputs": [
        {
          "output_type": "stream",
          "name": "stdout",
          "text": [
            "Found 20000 files belonging to 2 classes.\n",
            "Found 5000 files belonging to 2 classes.\n"
          ]
        }
      ]
    },
    {
      "cell_type": "code",
      "source": [
        "# each image store as numpy array\n",
        "# but the size of array is 0 to 255\n",
        "# so we want to normalize it\n",
        "\n",
        "def process(image,label):\n",
        "  image = tf.cast(image/255. , tf.float32)\n",
        "  return image,label\n",
        "\n",
        "train_ds = train_ds.map(process)\n",
        "validation_ds= validation_ds.map(process)"
      ],
      "metadata": {
        "id": "96pV5cFmljvY"
      },
      "execution_count": 11,
      "outputs": []
    },
    {
      "cell_type": "markdown",
      "source": [
        "# Building model"
      ],
      "metadata": {
        "id": "jaokE3H--mTo"
      }
    },
    {
      "cell_type": "code",
      "source": [
        "model = Sequential()"
      ],
      "metadata": {
        "id": "vtc2jZIFljsw"
      },
      "execution_count": 12,
      "outputs": []
    },
    {
      "cell_type": "code",
      "source": [
        "model.add(Conv2D(32,activation='relu',kernel_size=(3,3),padding='valid',input_shape=(256,256,3)))\n",
        "model.add(MaxPooling2D(pool_size=(2,2),strides=2,padding='valid'))\n",
        "\n",
        "model.add(Conv2D(64,activation='relu',kernel_size=(3,3),padding='valid'))\n",
        "model.add(MaxPooling2D(pool_size=(2,2),strides=2,padding='valid'))\n",
        "\n",
        "model.add(Conv2D(128,activation='relu',kernel_size=(3,3),padding='valid'))\n",
        "model.add(MaxPooling2D(pool_size=(2,2),strides=2,padding='valid'))\n",
        "\n",
        "model.add(Flatten())\n",
        "\n",
        "model.add(Dense(128,activation='relu'))\n",
        "model.add(Dense(64,activation='relu'))\n",
        "model.add(Dense(1,activation='sigmoid'))\n"
      ],
      "metadata": {
        "id": "VKN5FGZ2ljqH"
      },
      "execution_count": 31,
      "outputs": []
    },
    {
      "cell_type": "code",
      "source": [
        "model.summary()"
      ],
      "metadata": {
        "colab": {
          "base_uri": "https://localhost:8080/",
          "height": 449
        },
        "id": "M7RU-xD2-tNJ",
        "outputId": "fdcdda2b-163e-4e14-87ba-ad7d6859e240"
      },
      "execution_count": 32,
      "outputs": [
        {
          "output_type": "display_data",
          "data": {
            "text/plain": [
              "\u001b[1mModel: \"sequential_1\"\u001b[0m\n"
            ],
            "text/html": [
              "<pre style=\"white-space:pre;overflow-x:auto;line-height:normal;font-family:Menlo,'DejaVu Sans Mono',consolas,'Courier New',monospace\"><span style=\"font-weight: bold\">Model: \"sequential_1\"</span>\n",
              "</pre>\n"
            ]
          },
          "metadata": {}
        },
        {
          "output_type": "display_data",
          "data": {
            "text/plain": [
              "┏━━━━━━━━━━━━━━━━━━━━━━━━━━━━━━━━━┳━━━━━━━━━━━━━━━━━━━━━━━━┳━━━━━━━━━━━━━━━┓\n",
              "┃\u001b[1m \u001b[0m\u001b[1mLayer (type)                   \u001b[0m\u001b[1m \u001b[0m┃\u001b[1m \u001b[0m\u001b[1mOutput Shape          \u001b[0m\u001b[1m \u001b[0m┃\u001b[1m \u001b[0m\u001b[1m      Param #\u001b[0m\u001b[1m \u001b[0m┃\n",
              "┡━━━━━━━━━━━━━━━━━━━━━━━━━━━━━━━━━╇━━━━━━━━━━━━━━━━━━━━━━━━╇━━━━━━━━━━━━━━━┩\n",
              "│ conv2d_4 (\u001b[38;5;33mConv2D\u001b[0m)               │ (\u001b[38;5;45mNone\u001b[0m, \u001b[38;5;34m254\u001b[0m, \u001b[38;5;34m254\u001b[0m, \u001b[38;5;34m32\u001b[0m)   │           \u001b[38;5;34m896\u001b[0m │\n",
              "├─────────────────────────────────┼────────────────────────┼───────────────┤\n",
              "│ max_pooling2d_3 (\u001b[38;5;33mMaxPooling2D\u001b[0m)  │ (\u001b[38;5;45mNone\u001b[0m, \u001b[38;5;34m127\u001b[0m, \u001b[38;5;34m127\u001b[0m, \u001b[38;5;34m32\u001b[0m)   │             \u001b[38;5;34m0\u001b[0m │\n",
              "├─────────────────────────────────┼────────────────────────┼───────────────┤\n",
              "│ conv2d_5 (\u001b[38;5;33mConv2D\u001b[0m)               │ (\u001b[38;5;45mNone\u001b[0m, \u001b[38;5;34m125\u001b[0m, \u001b[38;5;34m125\u001b[0m, \u001b[38;5;34m64\u001b[0m)   │        \u001b[38;5;34m18,496\u001b[0m │\n",
              "├─────────────────────────────────┼────────────────────────┼───────────────┤\n",
              "│ max_pooling2d_4 (\u001b[38;5;33mMaxPooling2D\u001b[0m)  │ (\u001b[38;5;45mNone\u001b[0m, \u001b[38;5;34m62\u001b[0m, \u001b[38;5;34m62\u001b[0m, \u001b[38;5;34m64\u001b[0m)     │             \u001b[38;5;34m0\u001b[0m │\n",
              "├─────────────────────────────────┼────────────────────────┼───────────────┤\n",
              "│ conv2d_6 (\u001b[38;5;33mConv2D\u001b[0m)               │ (\u001b[38;5;45mNone\u001b[0m, \u001b[38;5;34m60\u001b[0m, \u001b[38;5;34m60\u001b[0m, \u001b[38;5;34m128\u001b[0m)    │        \u001b[38;5;34m73,856\u001b[0m │\n",
              "├─────────────────────────────────┼────────────────────────┼───────────────┤\n",
              "│ max_pooling2d_5 (\u001b[38;5;33mMaxPooling2D\u001b[0m)  │ (\u001b[38;5;45mNone\u001b[0m, \u001b[38;5;34m30\u001b[0m, \u001b[38;5;34m30\u001b[0m, \u001b[38;5;34m128\u001b[0m)    │             \u001b[38;5;34m0\u001b[0m │\n",
              "├─────────────────────────────────┼────────────────────────┼───────────────┤\n",
              "│ flatten_1 (\u001b[38;5;33mFlatten\u001b[0m)             │ (\u001b[38;5;45mNone\u001b[0m, \u001b[38;5;34m115200\u001b[0m)         │             \u001b[38;5;34m0\u001b[0m │\n",
              "├─────────────────────────────────┼────────────────────────┼───────────────┤\n",
              "│ dense_3 (\u001b[38;5;33mDense\u001b[0m)                 │ (\u001b[38;5;45mNone\u001b[0m, \u001b[38;5;34m128\u001b[0m)            │    \u001b[38;5;34m14,745,728\u001b[0m │\n",
              "├─────────────────────────────────┼────────────────────────┼───────────────┤\n",
              "│ dense_4 (\u001b[38;5;33mDense\u001b[0m)                 │ (\u001b[38;5;45mNone\u001b[0m, \u001b[38;5;34m64\u001b[0m)             │         \u001b[38;5;34m8,256\u001b[0m │\n",
              "├─────────────────────────────────┼────────────────────────┼───────────────┤\n",
              "│ dense_5 (\u001b[38;5;33mDense\u001b[0m)                 │ (\u001b[38;5;45mNone\u001b[0m, \u001b[38;5;34m1\u001b[0m)              │            \u001b[38;5;34m65\u001b[0m │\n",
              "└─────────────────────────────────┴────────────────────────┴───────────────┘\n"
            ],
            "text/html": [
              "<pre style=\"white-space:pre;overflow-x:auto;line-height:normal;font-family:Menlo,'DejaVu Sans Mono',consolas,'Courier New',monospace\">┏━━━━━━━━━━━━━━━━━━━━━━━━━━━━━━━━━┳━━━━━━━━━━━━━━━━━━━━━━━━┳━━━━━━━━━━━━━━━┓\n",
              "┃<span style=\"font-weight: bold\"> Layer (type)                    </span>┃<span style=\"font-weight: bold\"> Output Shape           </span>┃<span style=\"font-weight: bold\">       Param # </span>┃\n",
              "┡━━━━━━━━━━━━━━━━━━━━━━━━━━━━━━━━━╇━━━━━━━━━━━━━━━━━━━━━━━━╇━━━━━━━━━━━━━━━┩\n",
              "│ conv2d_4 (<span style=\"color: #0087ff; text-decoration-color: #0087ff\">Conv2D</span>)               │ (<span style=\"color: #00d7ff; text-decoration-color: #00d7ff\">None</span>, <span style=\"color: #00af00; text-decoration-color: #00af00\">254</span>, <span style=\"color: #00af00; text-decoration-color: #00af00\">254</span>, <span style=\"color: #00af00; text-decoration-color: #00af00\">32</span>)   │           <span style=\"color: #00af00; text-decoration-color: #00af00\">896</span> │\n",
              "├─────────────────────────────────┼────────────────────────┼───────────────┤\n",
              "│ max_pooling2d_3 (<span style=\"color: #0087ff; text-decoration-color: #0087ff\">MaxPooling2D</span>)  │ (<span style=\"color: #00d7ff; text-decoration-color: #00d7ff\">None</span>, <span style=\"color: #00af00; text-decoration-color: #00af00\">127</span>, <span style=\"color: #00af00; text-decoration-color: #00af00\">127</span>, <span style=\"color: #00af00; text-decoration-color: #00af00\">32</span>)   │             <span style=\"color: #00af00; text-decoration-color: #00af00\">0</span> │\n",
              "├─────────────────────────────────┼────────────────────────┼───────────────┤\n",
              "│ conv2d_5 (<span style=\"color: #0087ff; text-decoration-color: #0087ff\">Conv2D</span>)               │ (<span style=\"color: #00d7ff; text-decoration-color: #00d7ff\">None</span>, <span style=\"color: #00af00; text-decoration-color: #00af00\">125</span>, <span style=\"color: #00af00; text-decoration-color: #00af00\">125</span>, <span style=\"color: #00af00; text-decoration-color: #00af00\">64</span>)   │        <span style=\"color: #00af00; text-decoration-color: #00af00\">18,496</span> │\n",
              "├─────────────────────────────────┼────────────────────────┼───────────────┤\n",
              "│ max_pooling2d_4 (<span style=\"color: #0087ff; text-decoration-color: #0087ff\">MaxPooling2D</span>)  │ (<span style=\"color: #00d7ff; text-decoration-color: #00d7ff\">None</span>, <span style=\"color: #00af00; text-decoration-color: #00af00\">62</span>, <span style=\"color: #00af00; text-decoration-color: #00af00\">62</span>, <span style=\"color: #00af00; text-decoration-color: #00af00\">64</span>)     │             <span style=\"color: #00af00; text-decoration-color: #00af00\">0</span> │\n",
              "├─────────────────────────────────┼────────────────────────┼───────────────┤\n",
              "│ conv2d_6 (<span style=\"color: #0087ff; text-decoration-color: #0087ff\">Conv2D</span>)               │ (<span style=\"color: #00d7ff; text-decoration-color: #00d7ff\">None</span>, <span style=\"color: #00af00; text-decoration-color: #00af00\">60</span>, <span style=\"color: #00af00; text-decoration-color: #00af00\">60</span>, <span style=\"color: #00af00; text-decoration-color: #00af00\">128</span>)    │        <span style=\"color: #00af00; text-decoration-color: #00af00\">73,856</span> │\n",
              "├─────────────────────────────────┼────────────────────────┼───────────────┤\n",
              "│ max_pooling2d_5 (<span style=\"color: #0087ff; text-decoration-color: #0087ff\">MaxPooling2D</span>)  │ (<span style=\"color: #00d7ff; text-decoration-color: #00d7ff\">None</span>, <span style=\"color: #00af00; text-decoration-color: #00af00\">30</span>, <span style=\"color: #00af00; text-decoration-color: #00af00\">30</span>, <span style=\"color: #00af00; text-decoration-color: #00af00\">128</span>)    │             <span style=\"color: #00af00; text-decoration-color: #00af00\">0</span> │\n",
              "├─────────────────────────────────┼────────────────────────┼───────────────┤\n",
              "│ flatten_1 (<span style=\"color: #0087ff; text-decoration-color: #0087ff\">Flatten</span>)             │ (<span style=\"color: #00d7ff; text-decoration-color: #00d7ff\">None</span>, <span style=\"color: #00af00; text-decoration-color: #00af00\">115200</span>)         │             <span style=\"color: #00af00; text-decoration-color: #00af00\">0</span> │\n",
              "├─────────────────────────────────┼────────────────────────┼───────────────┤\n",
              "│ dense_3 (<span style=\"color: #0087ff; text-decoration-color: #0087ff\">Dense</span>)                 │ (<span style=\"color: #00d7ff; text-decoration-color: #00d7ff\">None</span>, <span style=\"color: #00af00; text-decoration-color: #00af00\">128</span>)            │    <span style=\"color: #00af00; text-decoration-color: #00af00\">14,745,728</span> │\n",
              "├─────────────────────────────────┼────────────────────────┼───────────────┤\n",
              "│ dense_4 (<span style=\"color: #0087ff; text-decoration-color: #0087ff\">Dense</span>)                 │ (<span style=\"color: #00d7ff; text-decoration-color: #00d7ff\">None</span>, <span style=\"color: #00af00; text-decoration-color: #00af00\">64</span>)             │         <span style=\"color: #00af00; text-decoration-color: #00af00\">8,256</span> │\n",
              "├─────────────────────────────────┼────────────────────────┼───────────────┤\n",
              "│ dense_5 (<span style=\"color: #0087ff; text-decoration-color: #0087ff\">Dense</span>)                 │ (<span style=\"color: #00d7ff; text-decoration-color: #00d7ff\">None</span>, <span style=\"color: #00af00; text-decoration-color: #00af00\">1</span>)              │            <span style=\"color: #00af00; text-decoration-color: #00af00\">65</span> │\n",
              "└─────────────────────────────────┴────────────────────────┴───────────────┘\n",
              "</pre>\n"
            ]
          },
          "metadata": {}
        },
        {
          "output_type": "display_data",
          "data": {
            "text/plain": [
              "\u001b[1m Total params: \u001b[0m\u001b[38;5;34m14,847,297\u001b[0m (56.64 MB)\n"
            ],
            "text/html": [
              "<pre style=\"white-space:pre;overflow-x:auto;line-height:normal;font-family:Menlo,'DejaVu Sans Mono',consolas,'Courier New',monospace\"><span style=\"font-weight: bold\"> Total params: </span><span style=\"color: #00af00; text-decoration-color: #00af00\">14,847,297</span> (56.64 MB)\n",
              "</pre>\n"
            ]
          },
          "metadata": {}
        },
        {
          "output_type": "display_data",
          "data": {
            "text/plain": [
              "\u001b[1m Trainable params: \u001b[0m\u001b[38;5;34m14,847,297\u001b[0m (56.64 MB)\n"
            ],
            "text/html": [
              "<pre style=\"white-space:pre;overflow-x:auto;line-height:normal;font-family:Menlo,'DejaVu Sans Mono',consolas,'Courier New',monospace\"><span style=\"font-weight: bold\"> Trainable params: </span><span style=\"color: #00af00; text-decoration-color: #00af00\">14,847,297</span> (56.64 MB)\n",
              "</pre>\n"
            ]
          },
          "metadata": {}
        },
        {
          "output_type": "display_data",
          "data": {
            "text/plain": [
              "\u001b[1m Non-trainable params: \u001b[0m\u001b[38;5;34m0\u001b[0m (0.00 B)\n"
            ],
            "text/html": [
              "<pre style=\"white-space:pre;overflow-x:auto;line-height:normal;font-family:Menlo,'DejaVu Sans Mono',consolas,'Courier New',monospace\"><span style=\"font-weight: bold\"> Non-trainable params: </span><span style=\"color: #00af00; text-decoration-color: #00af00\">0</span> (0.00 B)\n",
              "</pre>\n"
            ]
          },
          "metadata": {}
        }
      ]
    },
    {
      "cell_type": "code",
      "source": [
        "model.compile(loss='binary_crossentropy',optimizer='Adam',metrics=['accuracy'])"
      ],
      "metadata": {
        "id": "fvox3D3a-tJo"
      },
      "execution_count": 33,
      "outputs": []
    },
    {
      "cell_type": "code",
      "source": [
        "\n",
        "history = model.fit(train_ds,epochs=5,validation_data=validation_ds)"
      ],
      "metadata": {
        "colab": {
          "base_uri": "https://localhost:8080/"
        },
        "id": "Z0q6odJF-tG2",
        "outputId": "eca96bec-6289-49fb-fb6c-ca5de18a2448"
      },
      "execution_count": 34,
      "outputs": [
        {
          "output_type": "stream",
          "name": "stdout",
          "text": [
            "Epoch 1/5\n",
            "\u001b[1m625/625\u001b[0m \u001b[32m━━━━━━━━━━━━━━━━━━━━\u001b[0m\u001b[37m\u001b[0m \u001b[1m56s\u001b[0m 75ms/step - accuracy: 0.6261 - loss: 0.6716 - val_accuracy: 0.7498 - val_loss: 0.5127\n",
            "Epoch 2/5\n",
            "\u001b[1m625/625\u001b[0m \u001b[32m━━━━━━━━━━━━━━━━━━━━\u001b[0m\u001b[37m\u001b[0m \u001b[1m42s\u001b[0m 67ms/step - accuracy: 0.7789 - loss: 0.4706 - val_accuracy: 0.7830 - val_loss: 0.4630\n",
            "Epoch 3/5\n",
            "\u001b[1m625/625\u001b[0m \u001b[32m━━━━━━━━━━━━━━━━━━━━\u001b[0m\u001b[37m\u001b[0m \u001b[1m86s\u001b[0m 75ms/step - accuracy: 0.8277 - loss: 0.3743 - val_accuracy: 0.7948 - val_loss: 0.4790\n",
            "Epoch 4/5\n",
            "\u001b[1m625/625\u001b[0m \u001b[32m━━━━━━━━━━━━━━━━━━━━\u001b[0m\u001b[37m\u001b[0m \u001b[1m43s\u001b[0m 69ms/step - accuracy: 0.8971 - loss: 0.2412 - val_accuracy: 0.8012 - val_loss: 0.5910\n",
            "Epoch 5/5\n",
            "\u001b[1m625/625\u001b[0m \u001b[32m━━━━━━━━━━━━━━━━━━━━\u001b[0m\u001b[37m\u001b[0m \u001b[1m42s\u001b[0m 68ms/step - accuracy: 0.9463 - loss: 0.1385 - val_accuracy: 0.7930 - val_loss: 0.7385\n"
          ]
        }
      ]
    },
    {
      "cell_type": "code",
      "source": [
        "import matplotlib.pyplot as plt"
      ],
      "metadata": {
        "id": "11mrcG5F-tES"
      },
      "execution_count": 16,
      "outputs": []
    },
    {
      "cell_type": "code",
      "source": [
        "plt.plot(history.history['accuracy'],color='red',label='train')\n",
        "plt.plot(history.history['val_accuracy'],color='blue',label='validation')\n",
        "plt.legend()"
      ],
      "metadata": {
        "colab": {
          "base_uri": "https://localhost:8080/",
          "height": 447
        },
        "id": "WKEvqhuK5asf",
        "outputId": "fdd9c95e-b414-434c-a659-aff2ef991345"
      },
      "execution_count": 36,
      "outputs": [
        {
          "output_type": "execute_result",
          "data": {
            "text/plain": [
              "<matplotlib.legend.Legend at 0x7d0ec21f6a50>"
            ]
          },
          "metadata": {},
          "execution_count": 36
        },
        {
          "output_type": "display_data",
          "data": {
            "text/plain": [
              "<Figure size 640x480 with 1 Axes>"
            ],
            "image/png": "[encoded data removed]"
          },
          "metadata": {}
        }
      ]
    },
    {
      "cell_type": "code",
      "source": [
        "plt.plot(history.history['loss'],color='red',label='train')\n",
        "plt.plot(history.history['val_loss'],color='blue',label='validation')\n",
        "plt.legend()"
      ],
      "metadata": {
        "colab": {
          "base_uri": "https://localhost:8080/",
          "height": 447
        },
        "id": "LlVzTHPX5ckZ",
        "outputId": "8be83f7a-90e2-41a3-d868-bc94c7882eb6"
      },
      "execution_count": 37,
      "outputs": [
        {
          "output_type": "execute_result",
          "data": {
            "text/plain": [
              "<matplotlib.legend.Legend at 0x7d0ec227b150>"
            ]
          },
          "metadata": {},
          "execution_count": 37
        },
        {
          "output_type": "display_data",
          "data": {
            "text/plain": [
              "<Figure size 640x480 with 1 Axes>"
            ],
            "image/png": "[encoded data removed]"
          },
          "metadata": {}
        }
      ]
    },
    {
      "cell_type": "markdown",
      "source": [
        "before normalaization"
      ],
      "metadata": {
        "id": "xKiN7P6bbukq"
      }
    },
    {
      "cell_type": "code",
      "source": [
        "model.add(Conv2D(32,activation='relu',kernel_size=(3,3),padding='valid',input_shape=(256,256,3)))\n",
        "model.add(BatchNormalization())\n",
        "model.add(MaxPooling2D(pool_size=(2,2),strides=2,padding='valid'))\n",
        "\n",
        "model.add(Conv2D(64,activation='relu',kernel_size=(3,3),padding='valid'))\n",
        "model.add(BatchNormalization())\n",
        "model.add(MaxPooling2D(pool_size=(2,2),strides=2,padding='valid'))\n",
        "\n",
        "model.add(Conv2D(128,activation='relu',kernel_size=(3,3),padding='valid'))\n",
        "model.add(BatchNormalization())\n",
        "model.add(MaxPooling2D(pool_size=(2,2),strides=2,padding='valid'))\n",
        "\n",
        "model.add(Flatten())\n",
        "\n",
        "model.add(Dense(128,activation='relu'))\n",
        "model.add(Dense(64,activation='relu'))\n",
        "model.add(Dense(1,activation='sigmoid'))\n"
      ],
      "metadata": {
        "colab": {
          "base_uri": "https://localhost:8080/"
        },
        "id": "PKQwJxzc5Kg2",
        "outputId": "fe08df25-1883-4f0d-b3de-6d068a030897"
      },
      "execution_count": 13,
      "outputs": [
        {
          "output_type": "stream",
          "name": "stderr",
          "text": [
            "/usr/local/lib/python3.11/dist-packages/keras/src/layers/convolutional/base_conv.py:107: UserWarning: Do not pass an `input_shape`/`input_dim` argument to a layer. When using Sequential models, prefer using an `Input(shape)` object as the first layer in the model instead.\n",
            "  super().__init__(activity_regularizer=activity_regularizer, **kwargs)\n"
          ]
        }
      ]
    },
    {
      "cell_type": "code",
      "source": [
        "model.compile(loss='binary_crossentropy',optimizer='Adam',metrics=['accuracy'])\n",
        "\n",
        "history2 = model.fit(train_ds,epochs=5,validation_data=validation_ds)\n"
      ],
      "metadata": {
        "colab": {
          "base_uri": "https://localhost:8080/"
        },
        "id": "6MVrvH-y5kPX",
        "outputId": "5c1ae17d-dbed-468d-cd04-e58c74aa2e1a"
      },
      "execution_count": 14,
      "outputs": [
        {
          "output_type": "stream",
          "name": "stdout",
          "text": [
            "Epoch 1/5\n",
            "\u001b[1m625/625\u001b[0m \u001b[32m━━━━━━━━━━━━━━━━━━━━\u001b[0m\u001b[37m\u001b[0m \u001b[1m60s\u001b[0m 79ms/step - accuracy: 0.5928 - loss: 2.5044 - val_accuracy: 0.6436 - val_loss: 0.6531\n",
            "Epoch 2/5\n",
            "\u001b[1m625/625\u001b[0m \u001b[32m━━━━━━━━━━━━━━━━━━━━\u001b[0m\u001b[37m\u001b[0m \u001b[1m73s\u001b[0m 78ms/step - accuracy: 0.7036 - loss: 0.5777 - val_accuracy: 0.7308 - val_loss: 0.5610\n",
            "Epoch 3/5\n",
            "\u001b[1m625/625\u001b[0m \u001b[32m━━━━━━━━━━━━━━━━━━━━\u001b[0m\u001b[37m\u001b[0m \u001b[1m52s\u001b[0m 83ms/step - accuracy: 0.7830 - loss: 0.4591 - val_accuracy: 0.7126 - val_loss: 0.6727\n",
            "Epoch 4/5\n",
            "\u001b[1m625/625\u001b[0m \u001b[32m━━━━━━━━━━━━━━━━━━━━\u001b[0m\u001b[37m\u001b[0m \u001b[1m48s\u001b[0m 77ms/step - accuracy: 0.8190 - loss: 0.3953 - val_accuracy: 0.7806 - val_loss: 0.5308\n",
            "Epoch 5/5\n",
            "\u001b[1m625/625\u001b[0m \u001b[32m━━━━━━━━━━━━━━━━━━━━\u001b[0m\u001b[37m\u001b[0m \u001b[1m49s\u001b[0m 79ms/step - accuracy: 0.8551 - loss: 0.3301 - val_accuracy: 0.7476 - val_loss: 0.5969\n"
          ]
        }
      ]
    },
    {
      "cell_type": "code",
      "source": [
        "plt.plot(history2.history['accuracy'],color='red',label='train')\n",
        "plt.plot(history2.history['val_accuracy'],color='blue',label='validation')\n",
        "plt.legend()"
      ],
      "metadata": {
        "colab": {
          "base_uri": "https://localhost:8080/",
          "height": 447
        },
        "id": "f7qoCZv6-tBh",
        "outputId": "ddbf00be-f548-45d1-c45f-5d8e4726f6e8"
      },
      "execution_count": 17,
      "outputs": [
        {
          "output_type": "execute_result",
          "data": {
            "text/plain": [
              "<matplotlib.legend.Legend at 0x7ea890361710>"
            ]
          },
          "metadata": {},
          "execution_count": 17
        },
        {
          "output_type": "display_data",
          "data": {
            "text/plain": [
              "<Figure size 640x480 with 1 Axes>"
            ],
            "image/png": "[encoded data removed]"
          },
          "metadata": {}
        }
      ]
    },
    {
      "cell_type": "code",
      "source": [
        "plt.plot(history2.history['loss'],color='red',label='train')\n",
        "plt.plot(history2.history['val_loss'],color='blue',label='validation')\n",
        "plt.legend()"
      ],
      "metadata": {
        "colab": {
          "base_uri": "https://localhost:8080/",
          "height": 447
        },
        "id": "TJUZaPFZ58l5",
        "outputId": "5428b004-1634-45c3-dc4c-0c4f69a0e915"
      },
      "execution_count": 18,
      "outputs": [
        {
          "output_type": "execute_result",
          "data": {
            "text/plain": [
              "<matplotlib.legend.Legend at 0x7ea890351b90>"
            ]
          },
          "metadata": {},
          "execution_count": 18
        },
        {
          "output_type": "display_data",
          "data": {
            "text/plain": [
              "<Figure size 640x480 with 1 Axes>"
            ],
            "image/png": "[encoded data removed]"
          },
          "metadata": {}
        }
      ]
    },
    {
      "cell_type": "markdown",
      "source": [
        "# testing new data"
      ],
      "metadata": {
        "id": "Sk7N_BgX6pT7"
      }
    },
    {
      "cell_type": "code",
      "source": [
        "import cv2"
      ],
      "metadata": {
        "id": "T35a7n6aGg7B"
      },
      "execution_count": 19,
      "outputs": []
    },
    {
      "cell_type": "code",
      "source": [
        "test_img = cv2.imread('/content/images dog.jpeg')"
      ],
      "metadata": {
        "id": "e9X0VVVUGg0l"
      },
      "execution_count": 27,
      "outputs": []
    },
    {
      "cell_type": "code",
      "source": [
        "test_img"
      ],
      "metadata": {
        "colab": {
          "base_uri": "https://localhost:8080/",
          "height": 208
        },
        "id": "4HTG1rh_64hC",
        "outputId": "d33c631e-dcbd-400e-e09d-9c64cf7c535c"
      },
      "execution_count": 28,
      "outputs": [
        {
          "output_type": "execute_result",
          "data": {
            "text/plain": [
              "array([[[ 60,  94, 118],\n",
              "        [ 60,  94, 118],\n",
              "        [ 61,  95, 119],\n",
              "        ...,\n",
              "        [ 37,  63,  77],\n",
              "        [ 37,  63,  77],\n",
              "        [ 37,  63,  77]],\n",
              "\n",
              "       [[ 60,  94, 118],\n",
              "        [ 60,  94, 118],\n",
              "        [ 61,  95, 119],\n",
              "        ...,\n",
              "        [ 37,  63,  77],\n",
              "        [ 37,  63,  77],\n",
              "        [ 37,  63,  77]],\n",
              "\n",
              "       [[ 60,  94, 118],\n",
              "        [ 60,  94, 118],\n",
              "        [ 61,  95, 119],\n",
              "        ...,\n",
              "        [ 36,  62,  76],\n",
              "        [ 36,  62,  76],\n",
              "        [ 36,  62,  76]],\n",
              "\n",
              "       ...,\n",
              "\n",
              "       [[ 50, 131, 104],\n",
              "        [ 50, 131, 104],\n",
              "        [ 51, 130, 103],\n",
              "        ...,\n",
              "        [ 61, 128, 107],\n",
              "        [ 63, 130, 109],\n",
              "        [ 66, 132, 113]],\n",
              "\n",
              "       [[ 50, 131, 104],\n",
              "        [ 52, 133, 106],\n",
              "        [ 49, 128, 101],\n",
              "        ...,\n",
              "        [ 59, 126, 105],\n",
              "        [ 61, 128, 107],\n",
              "        [ 64, 130, 111]],\n",
              "\n",
              "       [[ 47, 128, 101],\n",
              "        [ 50, 131, 104],\n",
              "        [ 47, 126,  99],\n",
              "        ...,\n",
              "        [ 57, 124, 103],\n",
              "        [ 59, 126, 105],\n",
              "        [ 62, 128, 109]]], dtype=uint8)"
            ],
            "text/html": [
              "<style>\n",
              "      .ndarray_repr .ndarray_raw_data {\n",
              "        display: none;\n",
              "      }\n",
              "      .ndarray_repr.show_array .ndarray_raw_data {\n",
              "        display: block;\n",
              "      }\n",
              "      .ndarray_repr.show_array .ndarray_image_preview {\n",
              "        display: none;\n",
              "      }\n",
              "      </style>\n",
              "      <div id=\"id-b939ee0a-1b7f-4704-b72c-bd315d9d0d01\" class=\"ndarray_repr\"><pre>ndarray (168, 299, 3) <button style=\"padding: 0 2px;\">show data</button></pre><img src=\"data:image/png;base64,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\" class=\"ndarray_image_preview\" /><pre class=\"ndarray_raw_data\">array([[[ 60,  94, 118],\n",
              "        [ 60,  94, 118],\n",
              "        [ 61,  95, 119],\n",
              "        ...,\n",
              "        [ 37,  63,  77],\n",
              "        [ 37,  63,  77],\n",
              "        [ 37,  63,  77]],\n",
              "\n",
              "       [[ 60,  94, 118],\n",
              "        [ 60,  94, 118],\n",
              "        [ 61,  95, 119],\n",
              "        ...,\n",
              "        [ 37,  63,  77],\n",
              "        [ 37,  63,  77],\n",
              "        [ 37,  63,  77]],\n",
              "\n",
              "       [[ 60,  94, 118],\n",
              "        [ 60,  94, 118],\n",
              "        [ 61,  95, 119],\n",
              "        ...,\n",
              "        [ 36,  62,  76],\n",
              "        [ 36,  62,  76],\n",
              "        [ 36,  62,  76]],\n",
              "\n",
              "       ...,\n",
              "\n",
              "       [[ 50, 131, 104],\n",
              "        [ 50, 131, 104],\n",
              "        [ 51, 130, 103],\n",
              "        ...,\n",
              "        [ 61, 128, 107],\n",
              "        [ 63, 130, 109],\n",
              "        [ 66, 132, 113]],\n",
              "\n",
              "       [[ 50, 131, 104],\n",
              "        [ 52, 133, 106],\n",
              "        [ 49, 128, 101],\n",
              "        ...,\n",
              "        [ 59, 126, 105],\n",
              "        [ 61, 128, 107],\n",
              "        [ 64, 130, 111]],\n",
              "\n",
              "       [[ 47, 128, 101],\n",
              "        [ 50, 131, 104],\n",
              "        [ 47, 126,  99],\n",
              "        ...,\n",
              "        [ 57, 124, 103],\n",
              "        [ 59, 126, 105],\n",
              "        [ 62, 128, 109]]], dtype=uint8)</pre></div><script>\n",
              "      (() => {\n",
              "      const titles = ['show data', 'hide data'];\n",
              "      let index = 0\n",
              "      document.querySelector('#id-b939ee0a-1b7f-4704-b72c-bd315d9d0d01 button').onclick = (e) => {\n",
              "        document.querySelector('#id-b939ee0a-1b7f-4704-b72c-bd315d9d0d01').classList.toggle('show_array');\n",
              "        index = (++index) % 2;\n",
              "        document.querySelector('#id-b939ee0a-1b7f-4704-b72c-bd315d9d0d01 button').textContent = titles[index];\n",
              "        e.preventDefault();\n",
              "        e.stopPropagation();\n",
              "      }\n",
              "      })();\n",
              "    </script>"
            ]
          },
          "metadata": {},
          "execution_count": 28
        }
      ]
    },
    {
      "cell_type": "code",
      "source": [
        "test_img.shape"
      ],
      "metadata": {
        "colab": {
          "base_uri": "https://localhost:8080/"
        },
        "id": "fs1F50v267R6",
        "outputId": "1d25aa40-d074-4ad7-9d9f-6b463d547f32"
      },
      "execution_count": 29,
      "outputs": [
        {
          "output_type": "execute_result",
          "data": {
            "text/plain": [
              "(168, 299, 3)"
            ]
          },
          "metadata": {},
          "execution_count": 29
        }
      ]
    },
    {
      "cell_type": "code",
      "source": [
        "test_img = cv2.resize(test_img, (256,256))\n",
        "\n",
        "test_input = test_img.reshape((1,256,256,3))"
      ],
      "metadata": {
        "id": "VBLGYePv7BxU"
      },
      "execution_count": 30,
      "outputs": []
    },
    {
      "cell_type": "code",
      "source": [
        "model.predict(test_input)"
      ],
      "metadata": {
        "colab": {
          "base_uri": "https://localhost:8080/"
        },
        "id": "lmqFPFEK7Btw",
        "outputId": "6c4ff950-60fb-4c1a-d123-4cb11b5e0fd1"
      },
      "execution_count": 32,
      "outputs": [
        {
          "output_type": "stream",
          "name": "stdout",
          "text": [
            "\u001b[1m1/1\u001b[0m \u001b[32m━━━━━━━━━━━━━━━━━━━━\u001b[0m\u001b[37m\u001b[0m \u001b[1m0s\u001b[0m 32ms/step\n"
          ]
        },
        {
          "output_type": "execute_result",
          "data": {
            "text/plain": [
              "array([[1.]], dtype=float32)"
            ]
          },
          "metadata": {},
          "execution_count": 32
        }
      ]
    },
    {
      "cell_type": "code",
      "source": [
        "# 1 = dog\n",
        "# 0 = cat"
      ],
      "metadata": {
        "id": "tIC58Iiy7R-5"
      },
      "execution_count": null,
      "outputs": []
    }
  ]
}